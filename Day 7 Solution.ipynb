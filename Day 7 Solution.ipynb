{
 "cells": [
  {
   "cell_type": "markdown",
   "metadata": {},
   "source": [
    "## Ques1. Make a new dictionary in which keys become values and values become keys\n",
    "- Input :\n",
    "### port1 = {21: \"FTP\", 22:\"SSH\", 23: \"telnet\", 80: \"http\"}  \n",
    "- Output:\n",
    "###  Port2 = {“FTP\":21, \"SSH\":22, “telnet\":23,\"http\": 80}"
   ]
  },
  {
   "cell_type": "code",
   "execution_count": 1,
   "metadata": {},
   "outputs": [
    {
     "name": "stdout",
     "output_type": "stream",
     "text": [
      "INPUT Dictionary:  {21: 'FTP', 22: 'SSH', 23: 'telnet', 80: 'http'}\n",
      "OUTPUT Dictionary:  {'FTP': 21, 'SSH': 22, 'telnet': 23, 'http': 80}\n"
     ]
    }
   ],
   "source": [
    "port1 = {21: \"FTP\", 22:\"SSH\", 23: \"telnet\", 80: \"http\"}\n",
    "print(\"INPUT Dictionary: \", port1)\n",
    "port2 = { value:key  for key,value in port1.items() }\n",
    "print(\"OUTPUT Dictionary: \", port2)"
   ]
  },
  {
   "cell_type": "markdown",
   "metadata": {},
   "source": [
    "## Ques2. Make a new list which contains sum of number of tuples.\n",
    "\n",
    "- Input\n",
    "### [ (1,2),  (3,4), (5,6) ] \n",
    "- Output \n",
    "### [ 3, 7, 11 ]"
   ]
  },
  {
   "cell_type": "code",
   "execution_count": 2,
   "metadata": {},
   "outputs": [
    {
     "name": "stdout",
     "output_type": "stream",
     "text": [
      "List:  [(1, 2), (3, 4), (5, 6)]\n",
      "Resultant List that contains sum: [3, 7, 11]\n"
     ]
    }
   ],
   "source": [
    "list1 = [(1,2),(3,4),(5,6)]\n",
    "print(\"List: \", list1)\n",
    "result =[ sum(i)  for i in list1 ]\n",
    "print(\"Resultant List that contains sum:\",result)"
   ]
  },
  {
   "cell_type": "markdown",
   "metadata": {},
   "source": [
    "## Ques3. To make the elements in the inner list and tuple to the outer list\n",
    "- Input\n",
    "###  [ (1,2,3), [1,2], ['a','hit','less'] ] "
   ]
  },
  {
   "cell_type": "code",
   "execution_count": 3,
   "metadata": {},
   "outputs": [
    {
     "name": "stdout",
     "output_type": "stream",
     "text": [
      "The required output: [1, 2, 3, 1, 2, 'a', 'hit', 'less']\n"
     ]
    }
   ],
   "source": [
    "list2 = [(1,2,3), [1,2], ['a','hit','less']]\n",
    "list3 = []\n",
    "list3 = [ i for each in list2 for i in each ]\n",
    "print (\"The required output:\", list3) "
   ]
  },
  {
   "cell_type": "code",
   "execution_count": null,
   "metadata": {},
   "outputs": [],
   "source": []
  }
 ],
 "metadata": {
  "kernelspec": {
   "display_name": "Python 3",
   "language": "python",
   "name": "python3"
  },
  "language_info": {
   "codemirror_mode": {
    "name": "ipython",
    "version": 3
   },
   "file_extension": ".py",
   "mimetype": "text/x-python",
   "name": "python",
   "nbconvert_exporter": "python",
   "pygments_lexer": "ipython3",
   "version": "3.7.6"
  }
 },
 "nbformat": 4,
 "nbformat_minor": 4
}
