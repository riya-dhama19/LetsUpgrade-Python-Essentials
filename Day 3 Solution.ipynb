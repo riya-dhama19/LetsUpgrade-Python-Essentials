{
 "cells": [
  {
   "cell_type": "markdown",
   "metadata": {},
   "source": [
    "# Ques1.  Find the Sum of n number with the help of while loop"
   ]
  },
  {
   "cell_type": "code",
   "execution_count": 1,
   "metadata": {},
   "outputs": [
    {
     "name": "stdout",
     "output_type": "stream",
     "text": [
      "Enter the Value: 20\n",
      "The sum of 20 natural number is 210\n"
     ]
    }
   ],
   "source": [
    "n = int(input('Enter the Value: '))\n",
    "sum = 0\n",
    "i = 1\n",
    "while i<=n:\n",
    "    sum = sum + i\n",
    "    i = i + 1\n",
    "print('The sum of {} natural number is {}'.format(n,sum))    "
   ]
  },
  {
   "cell_type": "markdown",
   "metadata": {},
   "source": [
    "# Ques2. Find whether the given integer is prime or not "
   ]
  },
  {
   "cell_type": "code",
   "execution_count": 2,
   "metadata": {},
   "outputs": [
    {
     "name": "stdout",
     "output_type": "stream",
     "text": [
      "Enter a Number: 17\n",
      "17 Is a Prime Number\n"
     ]
    }
   ],
   "source": [
    "num = int(input('Enter a Number: '))\n",
    "if num > 1:\n",
    "    for i in range(2,num):\n",
    "        if num%i == 0:\n",
    "            print(num,'Is a Not Prime Number')\n",
    "            break\n",
    "    else:\n",
    "        print(num,'Is a Prime Number')\n",
    "else:\n",
    "    print(num,'Is not a Prime Number')"
   ]
  },
  {
   "cell_type": "code",
   "execution_count": null,
   "metadata": {},
   "outputs": [],
   "source": []
  }
 ],
 "metadata": {
  "kernelspec": {
   "display_name": "Python 3",
   "language": "python",
   "name": "python3"
  },
  "language_info": {
   "codemirror_mode": {
    "name": "ipython",
    "version": 3
   },
   "file_extension": ".py",
   "mimetype": "text/x-python",
   "name": "python",
   "nbconvert_exporter": "python",
   "pygments_lexer": "ipython3",
   "version": "3.7.6"
  }
 },
 "nbformat": 4,
 "nbformat_minor": 4
}
