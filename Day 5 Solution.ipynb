{
 "cells": [
  {
   "cell_type": "markdown",
   "metadata": {},
   "source": [
    "## Ques1. Sort the list in ascending order but all zeros should be at right hand side."
   ]
  },
  {
   "cell_type": "code",
   "execution_count": 1,
   "metadata": {},
   "outputs": [
    {
     "name": "stdout",
     "output_type": "stream",
     "text": [
      "The list before sorting : [0, 1, 2, 10, 4, 1, 0, 56, 2, 0, 1, 3, 0, 56, 0, 4]\n",
      "Length of list Before Sorting:  16\n",
      "\n",
      "After sorting:  [0, 0, 0, 0, 0, 1, 1, 1, 2, 2, 3, 4, 4, 10, 56, 56]\n",
      "\n",
      "Sorted List with 0 at the end:  [1, 1, 1, 2, 2, 3, 4, 4, 10, 56, 56, 0, 0, 0, 0, 0]\n",
      "Length of list After Sorting:  16\n"
     ]
    }
   ],
   "source": [
    "list1 = [0,1,2,10,4,1,0,56,2,0,1,3,0,56,0,4]\n",
    "\n",
    "print(\"The list before sorting :\", list1)\n",
    "print(\"Length of list Before Sorting: \", len(list1))\n",
    "\n",
    "list1.sort()\n",
    "print('\\nAfter sorting: ',list1)  \n",
    "\n",
    "list2 =[]\n",
    "for i in list1:\n",
    "    if i == 0:\n",
    "        list2.append(i)\n",
    "\n",
    "del list1[0:5]\n",
    "list1 = list1 + list2   \n",
    "\n",
    "print(\"\\nSorted List with 0 at the end: \",list1) \n",
    "print(\"Length of list After Sorting: \", len(list1))"
   ]
  },
  {
   "cell_type": "markdown",
   "metadata": {},
   "source": [
    "## Ques2. Merge the 2 sorted list to produce one sorted list by using only loop(while or for)"
   ]
  },
  {
   "cell_type": "code",
   "execution_count": 2,
   "metadata": {},
   "outputs": [
    {
     "name": "stdout",
     "output_type": "stream",
     "text": [
      "List1:  [10, 20, 40, 60, 70, 80]\n",
      "List2:  [5, 15, 25, 35, 45, 60]\n",
      "Merged Sorted List:  [5, 10, 15, 20, 25, 35, 40, 45, 60, 60, 70, 80]\n"
     ]
    }
   ],
   "source": [
    "List1 = [10,20,40,60,70,80]\n",
    "List2 = [5,15,25,35,45,60]\n",
    "\n",
    "print(\"List1: \", List1)\n",
    "print(\"List2: \", List2)\n",
    "\n",
    "List3 = []\n",
    "i = 0\n",
    "j = 0\n",
    "\n",
    "while i < len(List1) and j < len(List2):\n",
    "        if List1[i] < List2[j]:\n",
    "            List3.append(List1[i])\n",
    "            i = i+1 \n",
    "        else:\n",
    "            List3.append(List2[j])\n",
    "            j = j+1 \n",
    "            \n",
    "List3 = List3 + List1[i:] + List2[j:]\n",
    "print(\"Merged Sorted List: \",List3)"
   ]
  },
  {
   "cell_type": "code",
   "execution_count": null,
   "metadata": {},
   "outputs": [],
   "source": []
  }
 ],
 "metadata": {
  "kernelspec": {
   "display_name": "Python 3",
   "language": "python",
   "name": "python3"
  },
  "language_info": {
   "codemirror_mode": {
    "name": "ipython",
    "version": 3
   },
   "file_extension": ".py",
   "mimetype": "text/x-python",
   "name": "python",
   "nbconvert_exporter": "python",
   "pygments_lexer": "ipython3",
   "version": "3.7.6"
  }
 },
 "nbformat": 4,
 "nbformat_minor": 4
}
