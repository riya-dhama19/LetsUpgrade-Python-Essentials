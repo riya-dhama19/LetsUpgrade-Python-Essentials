{
 "cells": [
  {
   "cell_type": "markdown",
   "metadata": {},
   "source": [
    "## Ques1. Convert it into a Dictionary using List Comprehension"
   ]
  },
  {
   "cell_type": "code",
   "execution_count": 15,
   "metadata": {},
   "outputs": [
    {
     "name": "stdout",
     "output_type": "stream",
     "text": [
      "List1 :  [1, 2, 3, 4, 5, 7, 8]\n",
      "List2 :  ['a', 'b', 'c', 'd', 'e']\n",
      "\n",
      "Dictionary using List Comprehension:\n",
      " {1: 'a', 2: 'b', 3: 'c', 4: 'd', 5: 'e'}\n"
     ]
    }
   ],
   "source": [
    "List1 = [1,2,3,4,5,7,8]\n",
    "List2 = ['a','b','c','d','e']\n",
    "\n",
    "print (\"List1 : \", List1)\n",
    "print (\"List2 : \", List2) \n",
    "\n",
    "d = { List1[i]: List2[i] for i in range(min(len(List2), len(List1))) }\n",
    "print('\\nDictionary using List Comprehension:\\n', d)"
   ]
  },
  {
   "cell_type": "code",
   "execution_count": null,
   "metadata": {},
   "outputs": [],
   "source": []
  }
 ],
 "metadata": {
  "kernelspec": {
   "display_name": "Python 3",
   "language": "python",
   "name": "python3"
  },
  "language_info": {
   "codemirror_mode": {
    "name": "ipython",
    "version": 3
   },
   "file_extension": ".py",
   "mimetype": "text/x-python",
   "name": "python",
   "nbconvert_exporter": "python",
   "pygments_lexer": "ipython3",
   "version": "3.7.6"
  }
 },
 "nbformat": 4,
 "nbformat_minor": 4
}
