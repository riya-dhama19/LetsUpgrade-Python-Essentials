{
 "cells": [
  {
   "cell_type": "markdown",
   "metadata": {},
   "source": [
    "<h2  align='center'> Day 2 Assignment </h2>"
   ]
  },
  {
   "cell_type": "markdown",
   "metadata": {},
   "source": [
    "### Back slash \n",
    "- It is used to tell the compiler that line is in continuation , check the next line and dont show any error"
   ]
  },
  {
   "cell_type": "code",
   "execution_count": 2,
   "metadata": {},
   "outputs": [
    {
     "name": "stdout",
     "output_type": "stream",
     "text": [
      "Hello Welcome to Batch6\n"
     ]
    }
   ],
   "source": [
    "print('Hello \\\n",
    "Welcome to Batch6')"
   ]
  },
  {
   "cell_type": "markdown",
   "metadata": {},
   "source": [
    "### Tripple Quotes\n",
    "- It is used to create a doc string\n",
    "- It is used to create a text art\n",
    "- It is used to make or run a SQL Query"
   ]
  },
  {
   "cell_type": "code",
   "execution_count": 5,
   "metadata": {},
   "outputs": [
    {
     "data": {
      "text/plain": [
       "' Hey\\nHow are you ?\\nHope you are fine and happy !\\nHow is your learning going in this batch ? \\n'"
      ]
     },
     "execution_count": 5,
     "metadata": {},
     "output_type": "execute_result"
    }
   ],
   "source": [
    "# Creating a Doc String\n",
    "''' Hey\n",
    "How are you ?\n",
    "Hope you are fine and happy !\n",
    "How is your learning going in this batch ? \n",
    "'''"
   ]
  },
  {
   "cell_type": "markdown",
   "metadata": {},
   "source": [
    "### String Inside the Quotes "
   ]
  },
  {
   "cell_type": "code",
   "execution_count": 6,
   "metadata": {},
   "outputs": [
    {
     "ename": "SyntaxError",
     "evalue": "invalid syntax (<ipython-input-6-7181800428f8>, line 1)",
     "output_type": "error",
     "traceback": [
      "\u001b[1;36m  File \u001b[1;32m\"<ipython-input-6-7181800428f8>\"\u001b[1;36m, line \u001b[1;32m1\u001b[0m\n\u001b[1;33m    print('How's the session going ?')\u001b[0m\n\u001b[1;37m               ^\u001b[0m\n\u001b[1;31mSyntaxError\u001b[0m\u001b[1;31m:\u001b[0m invalid syntax\n"
     ]
    }
   ],
   "source": [
    "print('How's the session going ?')"
   ]
  },
  {
   "cell_type": "markdown",
   "metadata": {},
   "source": [
    "This will give error because for the compiler string has ended at How so after that it is not accepting (You can't use single quotes inside the single quotes)\n",
    "\n",
    "**Solution**\n",
    "\n",
    "Use single quotes inside double quotes "
   ]
  },
  {
   "cell_type": "code",
   "execution_count": 7,
   "metadata": {},
   "outputs": [
    {
     "name": "stdout",
     "output_type": "stream",
     "text": [
      "How's the session going ?\n"
     ]
    }
   ],
   "source": [
    "print(\"How's the session going ?\")"
   ]
  },
  {
   "cell_type": "markdown",
   "metadata": {},
   "source": [
    "### Escape Sequence of String \n",
    "There are many types of escape sequences :\n",
    "* \\t --- for tab \n",
    "* \\n --- for new line\n",
    "* \\b --- for backspace\n",
    "etc"
   ]
  },
  {
   "cell_type": "code",
   "execution_count": 8,
   "metadata": {},
   "outputs": [
    {
     "name": "stdout",
     "output_type": "stream",
     "text": [
      "Hello \t Riya\n"
     ]
    }
   ],
   "source": [
    "print('Hello \\t Riya')"
   ]
  },
  {
   "cell_type": "code",
   "execution_count": 10,
   "metadata": {},
   "outputs": [
    {
     "name": "stdout",
     "output_type": "stream",
     "text": [
      "Hello \n",
      "Riya\n"
     ]
    }
   ],
   "source": [
    "print('Hello \\nRiya')"
   ]
  },
  {
   "cell_type": "code",
   "execution_count": 13,
   "metadata": {},
   "outputs": [
    {
     "name": "stdout",
     "output_type": "stream",
     "text": [
      "Python's World\n"
     ]
    }
   ],
   "source": [
    "# Alternate solution to print Single quotes inside Single Quotes\n",
    "\n",
    "print('Python\\'s World')"
   ]
  },
  {
   "cell_type": "markdown",
   "metadata": {},
   "source": [
    "### Formated Output"
   ]
  },
  {
   "cell_type": "code",
   "execution_count": 23,
   "metadata": {},
   "outputs": [
    {
     "name": "stdout",
     "output_type": "stream",
     "text": [
      "Name of Student RIYA Marks are 95.78 and age is 20\n",
      "Name of Student RIYA Marks are 95.78 and age is 20\n",
      "Name of Student RIYA Marks are 95.78 and age is 20\n"
     ]
    }
   ],
   "source": [
    "name = 'RIYA'\n",
    "marks = 95.78\n",
    "age = 20\n",
    "print('Name of Student',name, 'Marks are', marks,'and age is', age)\n",
    "\n",
    "# Alternate for string Formating \n",
    "# 1. Method 1 :\n",
    "print(f'Name of Student {name} Marks are {marks} and age is {age}')\n",
    "# 2. Method 2 :\n",
    "print('Name of Student %s Marks are %.2f and age is %d' %(name,marks,age))"
   ]
  },
  {
   "cell_type": "markdown",
   "metadata": {},
   "source": [
    "## Python Variables\n",
    "- Variables means linking the data to name\n",
    "- According to datatype, the interpreter reserves the memory space\n",
    "- Variable refers to the memory location that contains the data\n",
    "<hr>\n",
    "\n",
    "**Rules to define a Variable**\n",
    "- A keyword cannot be used as a variable \n",
    "- A variable can only contain lower,upper case, numbers and underscore\n",
    "- A variable cannot start with a number "
   ]
  },
  {
   "cell_type": "code",
   "execution_count": 25,
   "metadata": {},
   "outputs": [],
   "source": [
    "# Variable names\n",
    "\n",
    "# if = 10 ( Not valid because if is a reserved keyword )\n",
    "if1 = 10  # ( valid )\n",
    "_10 = 6   # ( valid)"
   ]
  },
  {
   "cell_type": "markdown",
   "metadata": {},
   "source": [
    "### Assignment Statements"
   ]
  },
  {
   "cell_type": "code",
   "execution_count": 26,
   "metadata": {},
   "outputs": [],
   "source": [
    "x = y = 10 "
   ]
  },
  {
   "cell_type": "code",
   "execution_count": 27,
   "metadata": {},
   "outputs": [
    {
     "data": {
      "text/plain": [
       "10"
      ]
     },
     "execution_count": 27,
     "metadata": {},
     "output_type": "execute_result"
    }
   ],
   "source": [
    "x"
   ]
  },
  {
   "cell_type": "code",
   "execution_count": 28,
   "metadata": {},
   "outputs": [
    {
     "data": {
      "text/plain": [
       "10"
      ]
     },
     "execution_count": 28,
     "metadata": {},
     "output_type": "execute_result"
    }
   ],
   "source": [
    "y"
   ]
  },
  {
   "cell_type": "code",
   "execution_count": 29,
   "metadata": {},
   "outputs": [
    {
     "data": {
      "text/plain": [
       "140720546620080"
      ]
     },
     "execution_count": 29,
     "metadata": {},
     "output_type": "execute_result"
    }
   ],
   "source": [
    "id(x)"
   ]
  },
  {
   "cell_type": "code",
   "execution_count": 30,
   "metadata": {},
   "outputs": [
    {
     "data": {
      "text/plain": [
       "140720546620080"
      ]
     },
     "execution_count": 30,
     "metadata": {},
     "output_type": "execute_result"
    }
   ],
   "source": [
    "id(y)"
   ]
  },
  {
   "cell_type": "markdown",
   "metadata": {},
   "source": [
    "The id operator tells us the address of the RAM . The x and y points to the same memory location thats why it is giving same memory address "
   ]
  },
  {
   "cell_type": "markdown",
   "metadata": {},
   "source": [
    "## Types of Operators\n",
    "- Airthmetic operators\n",
    "- Comparison operators\n",
    "- Assignment operators\n",
    "- Bitwise operators\n",
    "- Logical operators\n",
    "- Membership operators\n",
    "- Identity operators"
   ]
  },
  {
   "cell_type": "markdown",
   "metadata": {},
   "source": [
    "## Airthmetic Operators\n",
    "-   Exponent ( ** )\n",
    "-  Multiplication ( * )\n",
    "-  Division ( / ) \n",
    "-   Modulation ( % )\n",
    "-  Addition  ( + )\n",
    "- Substraction ( - )\n",
    "-  Floor Division ( // )"
   ]
  },
  {
   "cell_type": "code",
   "execution_count": 32,
   "metadata": {},
   "outputs": [
    {
     "name": "stdout",
     "output_type": "stream",
     "text": [
      "Example of Airthmetic Operators\n",
      " 5**2 = 25\n",
      " 5*2 = 10\n",
      " 5/2 = 2.5\n",
      " 5%2 = 1\n",
      " 5+2 = 7\n",
      " 5-2 = 3\n",
      " 5//2 = 2\n"
     ]
    }
   ],
   "source": [
    "print ('Example of Airthmetic Operators')\n",
    "print(' 5**2 =', 5**2)\n",
    "print(' 5*2 =', 5*2)\n",
    "print(' 5/2 =', 5/2)\n",
    "print(' 5%2 =', 5%2)\n",
    "print(' 5+2 =', 5+2)\n",
    "print(' 5-2 =', 5-2)\n",
    "print(' 5//2 =',5//2)"
   ]
  },
  {
   "cell_type": "markdown",
   "metadata": {},
   "source": [
    "## Comparision Operators\n",
    "- ==\n",
    "- Less than (<)\n",
    "-  Greater than (>)\n",
    "-  Less than equal to (<=)\n",
    "- Greater than Equal to (>=)\n",
    "- Not equal to (!=)"
   ]
  },
  {
   "cell_type": "code",
   "execution_count": 33,
   "metadata": {},
   "outputs": [
    {
     "name": "stdout",
     "output_type": "stream",
     "text": [
      "Example of Comparision Operators\n",
      " 5==2 = False\n",
      " 5<2 = False\n",
      " 5>2 = True\n",
      " 5<=2 = False\n",
      " 5>=2 = True\n",
      " 5!=2 = True\n"
     ]
    }
   ],
   "source": [
    "print ('Example of Comparision Operators')\n",
    "print(' 5==2 =', 5==2)\n",
    "print(' 5<2 =', 5<2)\n",
    "print(' 5>2 =', 5>2)\n",
    "print(' 5<=2 =', 5<=2)\n",
    "print(' 5>=2 =', 5>=2)\n",
    "print(' 5!=2 =', 5!=2)"
   ]
  },
  {
   "cell_type": "markdown",
   "metadata": {},
   "source": [
    "## Assignment Operators\n",
    "- =\n",
    "- +=\n",
    "- -=\n",
    "- *=\n",
    "- /=\n",
    "- **="
   ]
  },
  {
   "cell_type": "code",
   "execution_count": 38,
   "metadata": {},
   "outputs": [
    {
     "name": "stdout",
     "output_type": "stream",
     "text": [
      "Example of Assignment Operators\n",
      "a = 10 b =  20\n",
      " a+=b = 30\n",
      " a-=b = -10\n",
      " a*=b = 200\n",
      " a/=b = 0.5\n",
      " a**=b = 100000000000000000000\n"
     ]
    }
   ],
   "source": [
    "print ('Example of Assignment Operators')\n",
    "a = 10\n",
    "b = 20\n",
    "print('a =',a , 'b = ',b)\n",
    "print(' a+=b =',  a+b)\n",
    "print(' a-=b =', a-b)\n",
    "print(' a*=b =', a*b)\n",
    "print(' a/=b =', a/b)\n",
    "print(' a**=b =', a**b)"
   ]
  },
  {
   "cell_type": "markdown",
   "metadata": {},
   "source": [
    "## Bitwise Operator \n",
    "- Btwise OR (|)\n",
    "- Bitwise AND (&)\n",
    "- Bitwise XOR (^)\n",
    "- Ones complement (~)\n",
    "- Left shift (<<)\n",
    "- Right Shift (>>)"
   ]
  },
  {
   "cell_type": "code",
   "execution_count": 39,
   "metadata": {},
   "outputs": [
    {
     "name": "stdout",
     "output_type": "stream",
     "text": [
      "Example of Bitwise Operators\n",
      " x|y = 241\n",
      " x&y = 0\n",
      " x^y = 241\n",
      " x<<y = 480\n",
      " x>>y = 120\n",
      " ~x = -241\n"
     ]
    }
   ],
   "source": [
    "print ('Example of Bitwise Operators')\n",
    "x = 240 \n",
    "y = 1\n",
    "print(' x|y =', x|y)\n",
    "print(' x&y =', x&y)\n",
    "print(' x^y =', x^y)\n",
    "print(' x<<y =', x<<y)\n",
    "print(' x>>y =', x>>y)\n",
    "print(' ~x =', ~x)"
   ]
  },
  {
   "cell_type": "markdown",
   "metadata": {},
   "source": [
    "## Membership Operator\n",
    "- in\n",
    "- not in"
   ]
  },
  {
   "cell_type": "code",
   "execution_count": 43,
   "metadata": {},
   "outputs": [
    {
     "name": "stdout",
     "output_type": "stream",
     "text": [
      "The string is:  Hello welcome to this course\n",
      " z in string ? False\n",
      " j not in string ? True\n"
     ]
    }
   ],
   "source": [
    "string = \"Hello welcome to this course\"\n",
    "print('The string is: ', string)\n",
    "print(' z in string ?' , 'z' in string)\n",
    "print(' j not in string ?', 'j' not in string )"
   ]
  },
  {
   "cell_type": "markdown",
   "metadata": {},
   "source": [
    "## Identity Operator \n",
    "- is \n",
    "- is not"
   ]
  },
  {
   "cell_type": "code",
   "execution_count": 46,
   "metadata": {},
   "outputs": [
    {
     "name": "stdout",
     "output_type": "stream",
     "text": [
      "x = 10\n",
      "y = 10\n",
      "x is y ? True\n",
      "z is not y?  True\n"
     ]
    }
   ],
   "source": [
    "x = 10\n",
    "y = 10\n",
    "print('x =', x)\n",
    "print('y =', y)\n",
    "print('x is y ?', x is y ) \n",
    "z = 12\n",
    "print('z is not y? ', z is not y)"
   ]
  },
  {
   "cell_type": "code",
   "execution_count": null,
   "metadata": {},
   "outputs": [],
   "source": []
  }
 ],
 "metadata": {
  "kernelspec": {
   "display_name": "Python 3",
   "language": "python",
   "name": "python3"
  },
  "language_info": {
   "codemirror_mode": {
    "name": "ipython",
    "version": 3
   },
   "file_extension": ".py",
   "mimetype": "text/x-python",
   "name": "python",
   "nbconvert_exporter": "python",
   "pygments_lexer": "ipython3",
   "version": "3.7.6"
  }
 },
 "nbformat": 4,
 "nbformat_minor": 4
}
